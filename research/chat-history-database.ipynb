{
 "cells": [
  {
   "cell_type": "code",
   "id": "initial_id",
   "metadata": {
    "collapsed": true,
    "ExecuteTime": {
     "end_time": "2024-12-17T21:03:53.253310Z",
     "start_time": "2024-12-17T21:03:53.247993Z"
    }
   },
   "source": [
    "from pymongo import MongoClient\n",
    "import os\n",
    "from dotenv import load_dotenv\n",
    "from datetime import datetime\n",
    "load_dotenv()"
   ],
   "outputs": [
    {
     "data": {
      "text/plain": [
       "True"
      ]
     },
     "execution_count": 9,
     "metadata": {},
     "output_type": "execute_result"
    }
   ],
   "execution_count": 9
  },
  {
   "metadata": {
    "ExecuteTime": {
     "end_time": "2024-12-17T21:03:57.939099Z",
     "start_time": "2024-12-17T21:03:57.934142Z"
    }
   },
   "cell_type": "code",
   "source": "datetime.now()",
   "id": "e31502813d25dbe4",
   "outputs": [
    {
     "data": {
      "text/plain": [
       "datetime.datetime(2024, 12, 18, 2, 33, 57, 935240)"
      ]
     },
     "execution_count": 10,
     "metadata": {},
     "output_type": "execute_result"
    }
   ],
   "execution_count": 10
  },
  {
   "metadata": {
    "ExecuteTime": {
     "end_time": "2024-12-17T21:04:04.125083Z",
     "start_time": "2024-12-17T21:04:04.120159Z"
    }
   },
   "cell_type": "code",
   "source": "datetime(2024, 12, 18, 10, 0, 0)",
   "id": "222cf4f42f483fc7",
   "outputs": [
    {
     "data": {
      "text/plain": [
       "datetime.datetime(2024, 12, 18, 10, 0)"
      ]
     },
     "execution_count": 11,
     "metadata": {},
     "output_type": "execute_result"
    }
   ],
   "execution_count": 11
  },
  {
   "metadata": {
    "ExecuteTime": {
     "end_time": "2024-12-17T21:04:16.503220Z",
     "start_time": "2024-12-17T21:04:15.495921Z"
    }
   },
   "cell_type": "code",
   "source": [
    "# Your connection URI\n",
    "uri = os.getenv('MONGODB_ATLAS_CLUSTER_URI')\n",
    "\n",
    "# Create a client instance and connect to MongoDB\n",
    "client = MongoClient(uri)\n",
    "\n",
    "# Access a database\n",
    "db = client['langchain_db']\n",
    "\n",
    "collection = db['sessions']  # Create or access the 'sessions' collection\n",
    "\n",
    "# Insert sample documents with 'session_id', 'date', 'query', 'answer'\n",
    "collection.insert_many([\n",
    "    {\n",
    "        'session_id': 'abc123',\n",
    "        'date': datetime(2024, 12, 18, 10, 0, 0),\n",
    "        'query': 'How to connect to MongoDB Atlas?',\n",
    "        'answer': 'Use pymongo and the connection string from the Atlas dashboard.'\n",
    "    },\n",
    "    {\n",
    "        'session_id': 'abc124',\n",
    "        'date': datetime(2024, 12, 18, 11, 0, 0),\n",
    "        'query': 'How to insert documents in MongoDB?',\n",
    "        'answer': 'Use insert_one() or insert_many() methods.'\n",
    "    },\n",
    "    {\n",
    "        'session_id': 'abc125',\n",
    "        'date': datetime(2024, 12, 18, 12, 0, 0),\n",
    "        'query': 'How to query data in MongoDB?',\n",
    "        'answer': 'Use find(), find_one(), and other query methods.'\n",
    "    }\n",
    "])\n",
    "\n",
    "# Fetch data ordered by 'date' in ascending order\n",
    "sorted_documents = collection.find().sort('date', 1)  # 1 for ascending, -1 for descending\n",
    "\n",
    "# Print the sorted documents\n",
    "for doc in sorted_documents:\n",
    "    print(doc)\n"
   ],
   "id": "9a42d8a1b2d788cf",
   "outputs": [
    {
     "name": "stdout",
     "output_type": "stream",
     "text": [
      "{'_id': ObjectId('6761e68f21f89cebd1cff71d'), 'name': 'John Doe', 'age': 30}\n",
      "{'_id': ObjectId('6761e74f21f89cebd1cff71f'), 'session_id': 'abc123', 'date': datetime.datetime(2024, 12, 18, 10, 0), 'query': 'How to connect to MongoDB Atlas?', 'answer': 'Use pymongo and the connection string from the Atlas dashboard.'}\n",
      "{'_id': ObjectId('6761e74f21f89cebd1cff720'), 'session_id': 'abc124', 'date': datetime.datetime(2024, 12, 18, 11, 0), 'query': 'How to insert documents in MongoDB?', 'answer': 'Use insert_one() or insert_many() methods.'}\n",
      "{'_id': ObjectId('6761e74f21f89cebd1cff721'), 'session_id': 'abc125', 'date': datetime.datetime(2024, 12, 18, 12, 0), 'query': 'How to query data in MongoDB?', 'answer': 'Use find(), find_one(), and other query methods.'}\n"
     ]
    }
   ],
   "execution_count": 12
  },
  {
   "metadata": {
    "ExecuteTime": {
     "end_time": "2024-12-17T21:08:15.997446Z",
     "start_time": "2024-12-17T21:08:15.705734Z"
    }
   },
   "cell_type": "code",
   "source": "from langchain_core.messages import HumanMessage, AIMessage",
   "id": "8245e7cd17728f2c",
   "outputs": [],
   "execution_count": 13
  },
  {
   "metadata": {
    "ExecuteTime": {
     "end_time": "2024-12-17T21:11:10.320407Z",
     "start_time": "2024-12-17T21:11:10.313918Z"
    }
   },
   "cell_type": "code",
   "source": [
    "def get_chat_history(session_id):\n",
    "    chat_history = []\n",
    "    # Your connection URI\n",
    "    uri = os.getenv('MONGODB_ATLAS_CLUSTER_URI')\n",
    "\n",
    "    # Create a client instance and connect to MongoDB\n",
    "    client = MongoClient(uri)\n",
    "\n",
    "    # Access a database\n",
    "    db = client['langchain_db']\n",
    "\n",
    "    collection = db['sessions']  # Create or access the 'sessions' collection\n",
    "\n",
    "    # Fetch data ordered by 'date' in ascending order\n",
    "    sorted_documents = collection.find({'session_id':session_id}).sort('date', -1)  # 1 for ascending, -1 for descending\n",
    "\n",
    "    for num, doc in enumerate( sorted_documents):\n",
    "        chat_history.append(HumanMessage(content=doc[\"query\"]))\n",
    "        chat_history.append(AIMessage(content=doc[\"answer\"]))\n",
    "        if num >5:\n",
    "            break\n",
    "\n",
    "    return chat_history\n"
   ],
   "id": "7fd8040692d2e428",
   "outputs": [],
   "execution_count": 14
  },
  {
   "metadata": {
    "ExecuteTime": {
     "end_time": "2024-12-17T21:11:29.570302Z",
     "start_time": "2024-12-17T21:11:28.641117Z"
    }
   },
   "cell_type": "code",
   "source": "get_chat_history(\"abc124\")",
   "id": "22ffe2da54050723",
   "outputs": [
    {
     "data": {
      "text/plain": [
       "[HumanMessage(content='How to insert documents in MongoDB?', additional_kwargs={}, response_metadata={}),\n",
       " AIMessage(content='Use insert_one() or insert_many() methods.', additional_kwargs={}, response_metadata={})]"
      ]
     },
     "execution_count": 15,
     "metadata": {},
     "output_type": "execute_result"
    }
   ],
   "execution_count": 15
  },
  {
   "metadata": {
    "ExecuteTime": {
     "end_time": "2024-12-17T21:16:09.802814Z",
     "start_time": "2024-12-17T21:16:08.802669Z"
    }
   },
   "cell_type": "code",
   "source": "get_chat_history(\"r3r3r\")",
   "id": "996372afe5db6c6e",
   "outputs": [
    {
     "data": {
      "text/plain": [
       "[]"
      ]
     },
     "execution_count": 16,
     "metadata": {},
     "output_type": "execute_result"
    }
   ],
   "execution_count": 16
  }
 ],
 "metadata": {
  "kernelspec": {
   "display_name": "Python 3",
   "language": "python",
   "name": "python3"
  },
  "language_info": {
   "codemirror_mode": {
    "name": "ipython",
    "version": 2
   },
   "file_extension": ".py",
   "mimetype": "text/x-python",
   "name": "python",
   "nbconvert_exporter": "python",
   "pygments_lexer": "ipython2",
   "version": "2.7.6"
  }
 },
 "nbformat": 4,
 "nbformat_minor": 5
}
