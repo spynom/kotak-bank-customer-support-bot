{
 "cells": [
  {
   "cell_type": "code",
   "id": "initial_id",
   "metadata": {
    "collapsed": true,
    "ExecuteTime": {
     "end_time": "2024-12-17T21:37:02.606649Z",
     "start_time": "2024-12-17T21:37:01.669298Z"
    }
   },
   "source": "from src.RAGSystem import get_response",
   "outputs": [],
   "execution_count": 1
  },
  {
   "metadata": {
    "ExecuteTime": {
     "end_time": "2024-12-17T21:37:02.614193Z",
     "start_time": "2024-12-17T21:37:02.611253Z"
    }
   },
   "cell_type": "code",
   "source": "session_id = \"3e3qwqewq3\"",
   "id": "82267a1136128d85",
   "outputs": [],
   "execution_count": 2
  },
  {
   "metadata": {
    "ExecuteTime": {
     "end_time": "2024-12-17T21:37:02.911713Z",
     "start_time": "2024-12-17T21:37:02.908219Z"
    }
   },
   "cell_type": "code",
   "source": "q1 = \"what is kyc video ?\"",
   "id": "aaebba63b2609177",
   "outputs": [],
   "execution_count": 3
  },
  {
   "metadata": {
    "ExecuteTime": {
     "end_time": "2024-12-17T21:37:21.800262Z",
     "start_time": "2024-12-17T21:37:04.909119Z"
    }
   },
   "cell_type": "code",
   "source": "get_response(input_=q1, session_id=session_id)",
   "id": "bae09182420df42e",
   "outputs": [
    {
     "data": {
      "text/plain": [
       "'Kotak811 Video KYC (Know Your Customer) is an online process that allows new customers or existing Kotak811 account holders to complete the full Know Your Customer verification through a video call, eliminating the need for physical paperwork and documentation.'"
      ]
     },
     "execution_count": 4,
     "metadata": {},
     "output_type": "execute_result"
    }
   ],
   "execution_count": 4
  },
  {
   "metadata": {
    "ExecuteTime": {
     "end_time": "2024-12-17T21:37:51.307134Z",
     "start_time": "2024-12-17T21:37:33.996058Z"
    }
   },
   "cell_type": "code",
   "source": [
    "q2 = \"how can i make one ?\"\n",
    "get_response(input_=q2, session_id=session_id)"
   ],
   "id": "232d0add6ea0f153",
   "outputs": [
    {
     "data": {
      "text/plain": [
       "\"I don't have information on how to create a Video KYC document. The provided context only explains the process of undergoing Video KYC as a customer, not creating one. If you're looking for guidance on creating a Video KYC document, I recommend contacting Kotak Mahindra Bank's customer support for assistance.\""
      ]
     },
     "execution_count": 5,
     "metadata": {},
     "output_type": "execute_result"
    }
   ],
   "execution_count": 5
  },
  {
   "metadata": {
    "ExecuteTime": {
     "end_time": "2024-12-17T21:39:34.475437Z",
     "start_time": "2024-12-17T21:39:15.774018Z"
    }
   },
   "cell_type": "code",
   "source": [
    "q3 = \"is there any step to follow\"\n",
    "get_response(input_=q3, session_id=session_id)"
   ],
   "id": "5efe6b5106d00b8b",
   "outputs": [
    {
     "data": {
      "text/plain": [
       "\"Yes, according to the provided context, to book an appointment via the app:\\n\\n1. Visit the Kotak811 section on the Kotak811 Mobile Banking App\\n2. Go to 'Verify your a/c'\\n3. Tap on 'Book appointment'\\n\\nA customer support executive will call you to confirm the time and your address before the visit.\""
      ]
     },
     "execution_count": 6,
     "metadata": {},
     "output_type": "execute_result"
    }
   ],
   "execution_count": 6
  },
  {
   "metadata": {
    "ExecuteTime": {
     "end_time": "2024-12-17T21:40:32.282411Z",
     "start_time": "2024-12-17T21:40:22.577168Z"
    }
   },
   "cell_type": "code",
   "source": [
    "q4 = \"who is prime minister of india\"\n",
    "get_response(input_=q4, session_id=session_id)"
   ],
   "id": "5abf0366f13597cb",
   "outputs": [
    {
     "data": {
      "text/plain": [
       "\"I don't have information on the current Prime Minister of India from the provided context. However, I can tell you that according to general knowledge, as of my cut-off date (December 2023), the Prime Minister of India is Narendra Modi. Please note that this information may have changed since my cut-off date.\""
      ]
     },
     "execution_count": 7,
     "metadata": {},
     "output_type": "execute_result"
    }
   ],
   "execution_count": 7
  }
 ],
 "metadata": {
  "kernelspec": {
   "display_name": "Python 3",
   "language": "python",
   "name": "python3"
  },
  "language_info": {
   "codemirror_mode": {
    "name": "ipython",
    "version": 2
   },
   "file_extension": ".py",
   "mimetype": "text/x-python",
   "name": "python",
   "nbconvert_exporter": "python",
   "pygments_lexer": "ipython2",
   "version": "2.7.6"
  }
 },
 "nbformat": 4,
 "nbformat_minor": 5
}
