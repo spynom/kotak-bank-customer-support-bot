{
 "cells": [
  {
   "cell_type": "code",
   "id": "initial_id",
   "metadata": {
    "collapsed": true,
    "ExecuteTime": {
     "end_time": "2024-12-19T07:21:32.152509Z",
     "start_time": "2024-12-19T07:21:31.808710Z"
    }
   },
   "source": [
    "import os\n",
    "from dotenv import load_dotenv\n",
    "import json\n",
    "import pandas as pd\n",
    "load_dotenv()"
   ],
   "outputs": [
    {
     "data": {
      "text/plain": [
       "True"
      ]
     },
     "execution_count": 1,
     "metadata": {},
     "output_type": "execute_result"
    }
   ],
   "execution_count": 1
  },
  {
   "metadata": {
    "ExecuteTime": {
     "end_time": "2024-12-19T07:21:32.940883Z",
     "start_time": "2024-12-19T07:21:32.220181Z"
    }
   },
   "cell_type": "code",
   "source": [
    "from langchain_core.prompts import ChatPromptTemplate\n",
    "from langchain_groq import ChatGroq"
   ],
   "id": "a0ef2be28697e886",
   "outputs": [],
   "execution_count": 2
  },
  {
   "metadata": {
    "ExecuteTime": {
     "end_time": "2024-12-19T07:21:33.293821Z",
     "start_time": "2024-12-19T07:21:33.108818Z"
    }
   },
   "cell_type": "code",
   "source": "llm = ChatGroq(temperature=0, model_name=\"gemma2-9b-it\")",
   "id": "d2375df8e8bcb7d2",
   "outputs": [],
   "execution_count": 3
  },
  {
   "metadata": {},
   "cell_type": "markdown",
   "source": "# Generate the Test Set",
   "id": "69bb655b4c30aa0e"
  },
  {
   "metadata": {
    "ExecuteTime": {
     "end_time": "2024-12-19T05:38:47.894974Z",
     "start_time": "2024-12-19T05:38:47.885328Z"
    }
   },
   "cell_type": "code",
   "source": [
    "from pydantic import BaseModel, Field\n",
    "from typing import List\n",
    "\n",
    "class Node(BaseModel):\n",
    "    \"\"\"Ground truth data for evaluation.\"\"\"\n",
    "    question: str = Field(description=\"Question to ask\")\n",
    "    ground_truth: str = Field(description=\"Ground truth data\")\n",
    "\n",
    "\n",
    "\n",
    "structured_llm = llm.with_structured_output(Node)\n"
   ],
   "id": "30f7b52ba0e068a9",
   "outputs": [],
   "execution_count": 22
  },
  {
   "metadata": {
    "ExecuteTime": {
     "end_time": "2024-12-19T05:39:37.876945Z",
     "start_time": "2024-12-19T05:39:37.872718Z"
    }
   },
   "cell_type": "code",
   "source": [
    "system = \"You are a system to generate natural question and  ground truth by given contexts \"\n",
    "human = \"{text}\"\n",
    "prompt = ChatPromptTemplate.from_messages([(\"system\", system), (\"human\", human)])\n",
    "\n",
    "chain = prompt | structured_llm\n"
   ],
   "id": "820677964c5b8140",
   "outputs": [],
   "execution_count": 23
  },
  {
   "metadata": {
    "ExecuteTime": {
     "end_time": "2024-12-19T05:33:23.627738Z",
     "start_time": "2024-12-19T05:33:23.615335Z"
    }
   },
   "cell_type": "code",
   "source": [
    "with open(\"../.gradio/scrappedFQA.json\") as f:\n",
    "    documents = json.load(f)[\"data\"]"
   ],
   "id": "3eea28e0a1529f65",
   "outputs": [],
   "execution_count": 11
  },
  {
   "metadata": {
    "ExecuteTime": {
     "end_time": "2024-12-19T05:33:25.532484Z",
     "start_time": "2024-12-19T05:33:25.527388Z"
    }
   },
   "cell_type": "code",
   "source": "df = pd.DataFrame([f\"{doc['query']}/n/n{doc['solution']}\" for doc in documents], columns=[\"text\"])",
   "id": "75a63dc08e5d65d",
   "outputs": [],
   "execution_count": 12
  },
  {
   "metadata": {
    "ExecuteTime": {
     "end_time": "2024-12-19T05:49:20.221150Z",
     "start_time": "2024-12-19T05:42:43.094919Z"
    }
   },
   "cell_type": "code",
   "source": [
    "li = []\n",
    "for data in df.sample(100)[\"text\"].tolist():\n",
    "    li.append(chain.invoke({\"text\": data}))"
   ],
   "id": "25a6665b34f2dba0",
   "outputs": [],
   "execution_count": 26
  },
  {
   "metadata": {
    "ExecuteTime": {
     "end_time": "2024-12-19T05:55:25.951731Z",
     "start_time": "2024-12-19T05:55:25.947729Z"
    }
   },
   "cell_type": "code",
   "source": "li[5]",
   "id": "424335a0d5ae7d0",
   "outputs": [
    {
     "data": {
      "text/plain": [
       "Node(question='What are the advantages of Secure one/Life insurance?', ground_truth='The advantages of Secure one/Life insurance include dual policy benefit, tax advantage, and no requirement for prior medical examination or documentation.')"
      ]
     },
     "execution_count": 28,
     "metadata": {},
     "output_type": "execute_result"
    }
   ],
   "execution_count": 28
  },
  {
   "metadata": {
    "ExecuteTime": {
     "end_time": "2024-12-19T06:01:02.339572Z",
     "start_time": "2024-12-19T06:01:02.334423Z"
    }
   },
   "cell_type": "code",
   "source": "test_set = pd.DataFrame([[data.question,data.ground_truth] for data in li],columns=[\"question\", \"ground_truth\"])",
   "id": "d70c5773686f4f07",
   "outputs": [],
   "execution_count": 34
  },
  {
   "metadata": {
    "ExecuteTime": {
     "end_time": "2024-12-19T06:01:03.984319Z",
     "start_time": "2024-12-19T06:01:03.976447Z"
    }
   },
   "cell_type": "code",
   "source": "test_set",
   "id": "a5eb9753a3af9c16",
   "outputs": [
    {
     "data": {
      "text/plain": [
       "                                             question  \\\n",
       "0   Are there any charges applicable on my credit ...   \n",
       "1   What are the steps to start investing in mutua...   \n",
       "2   What should I do if my debit card PIN was inco...   \n",
       "3                              What is maturity date?   \n",
       "4   What should I do if I didn't receive the cashb...   \n",
       "..                                                ...   \n",
       "95  What details are required to change or add a n...   \n",
       "96  What are the key considerations for taking a g...   \n",
       "97  Are there any restrictions on the transactions...   \n",
       "98      What is an Investment Horizon in mutual fund?   \n",
       "99  What if I want to change my repayment mode (ba...   \n",
       "\n",
       "                                         ground_truth  \n",
       "0   Yes, charges such as late payment charges, int...  \n",
       "1   To start investing in mutual funds, you need t...  \n",
       "2   To update the landmark, log in to Net-Banking ...  \n",
       "3   The date on which the contract of insurance po...  \n",
       "4   Share a screenshot or copy of the promotional ...  \n",
       "..                                                ...  \n",
       "95  Name of the nominee, Address, Date of Birth, P...  \n",
       "96  To pledge ornaments owned by the customer, sho...  \n",
       "97  Yes, Kotak 811 Lite is a Digital Wallet accoun...  \n",
       "98  An Investment Horizon refers to the length of ...  \n",
       "99  In case you need to change your EMI repayment ...  \n",
       "\n",
       "[100 rows x 2 columns]"
      ],
      "text/html": [
       "<div>\n",
       "<style scoped>\n",
       "    .dataframe tbody tr th:only-of-type {\n",
       "        vertical-align: middle;\n",
       "    }\n",
       "\n",
       "    .dataframe tbody tr th {\n",
       "        vertical-align: top;\n",
       "    }\n",
       "\n",
       "    .dataframe thead th {\n",
       "        text-align: right;\n",
       "    }\n",
       "</style>\n",
       "<table border=\"1\" class=\"dataframe\">\n",
       "  <thead>\n",
       "    <tr style=\"text-align: right;\">\n",
       "      <th></th>\n",
       "      <th>question</th>\n",
       "      <th>ground_truth</th>\n",
       "    </tr>\n",
       "  </thead>\n",
       "  <tbody>\n",
       "    <tr>\n",
       "      <th>0</th>\n",
       "      <td>Are there any charges applicable on my credit ...</td>\n",
       "      <td>Yes, charges such as late payment charges, int...</td>\n",
       "    </tr>\n",
       "    <tr>\n",
       "      <th>1</th>\n",
       "      <td>What are the steps to start investing in mutua...</td>\n",
       "      <td>To start investing in mutual funds, you need t...</td>\n",
       "    </tr>\n",
       "    <tr>\n",
       "      <th>2</th>\n",
       "      <td>What should I do if my debit card PIN was inco...</td>\n",
       "      <td>To update the landmark, log in to Net-Banking ...</td>\n",
       "    </tr>\n",
       "    <tr>\n",
       "      <th>3</th>\n",
       "      <td>What is maturity date?</td>\n",
       "      <td>The date on which the contract of insurance po...</td>\n",
       "    </tr>\n",
       "    <tr>\n",
       "      <th>4</th>\n",
       "      <td>What should I do if I didn't receive the cashb...</td>\n",
       "      <td>Share a screenshot or copy of the promotional ...</td>\n",
       "    </tr>\n",
       "    <tr>\n",
       "      <th>...</th>\n",
       "      <td>...</td>\n",
       "      <td>...</td>\n",
       "    </tr>\n",
       "    <tr>\n",
       "      <th>95</th>\n",
       "      <td>What details are required to change or add a n...</td>\n",
       "      <td>Name of the nominee, Address, Date of Birth, P...</td>\n",
       "    </tr>\n",
       "    <tr>\n",
       "      <th>96</th>\n",
       "      <td>What are the key considerations for taking a g...</td>\n",
       "      <td>To pledge ornaments owned by the customer, sho...</td>\n",
       "    </tr>\n",
       "    <tr>\n",
       "      <th>97</th>\n",
       "      <td>Are there any restrictions on the transactions...</td>\n",
       "      <td>Yes, Kotak 811 Lite is a Digital Wallet accoun...</td>\n",
       "    </tr>\n",
       "    <tr>\n",
       "      <th>98</th>\n",
       "      <td>What is an Investment Horizon in mutual fund?</td>\n",
       "      <td>An Investment Horizon refers to the length of ...</td>\n",
       "    </tr>\n",
       "    <tr>\n",
       "      <th>99</th>\n",
       "      <td>What if I want to change my repayment mode (ba...</td>\n",
       "      <td>In case you need to change your EMI repayment ...</td>\n",
       "    </tr>\n",
       "  </tbody>\n",
       "</table>\n",
       "<p>100 rows × 2 columns</p>\n",
       "</div>"
      ]
     },
     "execution_count": 35,
     "metadata": {},
     "output_type": "execute_result"
    }
   ],
   "execution_count": 35
  },
  {
   "metadata": {
    "ExecuteTime": {
     "end_time": "2024-12-19T06:02:10.407048Z",
     "start_time": "2024-12-19T06:02:10.400815Z"
    }
   },
   "cell_type": "code",
   "source": "test_set.to_csv(\"../data/test_set.csv\", index=False)",
   "id": "ee7664d9955ced13",
   "outputs": [],
   "execution_count": 36
  },
  {
   "metadata": {
    "ExecuteTime": {
     "end_time": "2024-12-19T06:07:36.371147Z",
     "start_time": "2024-12-19T06:07:36.367985Z"
    }
   },
   "cell_type": "code",
   "source": [
    "questions = test_set[\"question\"].tolist()\n",
    "ground_truths = test_set[\"ground_truth\"].tolist()"
   ],
   "id": "c979b11175c93716",
   "outputs": [],
   "execution_count": 37
  },
  {
   "metadata": {},
   "cell_type": "markdown",
   "source": "# Generate the answer and content",
   "id": "dbf22a6b7dfb5e91"
  },
  {
   "metadata": {
    "ExecuteTime": {
     "end_time": "2024-12-19T06:15:00.198170Z",
     "start_time": "2024-12-19T06:14:59.932638Z"
    }
   },
   "cell_type": "code",
   "source": [
    "\n",
    "from src.chatbot import vector_store_retriever,rag_chain"
   ],
   "id": "3f37387ae75136ad",
   "outputs": [],
   "execution_count": 39
  },
  {
   "metadata": {
    "ExecuteTime": {
     "end_time": "2024-12-19T06:18:19.917389Z",
     "start_time": "2024-12-19T06:18:19.913634Z"
    }
   },
   "cell_type": "code",
   "source": [
    "answers = []\n",
    "content = []"
   ],
   "id": "83b3fb61d885c952",
   "outputs": [],
   "execution_count": 44
  },
  {
   "metadata": {
    "ExecuteTime": {
     "end_time": "2024-12-19T06:15:02.481263Z",
     "start_time": "2024-12-19T06:15:02.061306Z"
    }
   },
   "cell_type": "code",
   "source": "vector_store =vector_store_retriever()",
   "id": "90ec308882745d42",
   "outputs": [],
   "execution_count": 41
  },
  {
   "metadata": {
    "ExecuteTime": {
     "end_time": "2024-12-19T06:28:59.504481Z",
     "start_time": "2024-12-19T06:18:20.942053Z"
    }
   },
   "cell_type": "code",
   "source": [
    "for question in questions:\n",
    "    answer = rag_chain(question,chat_history=[])\n",
    "    answers.append(answer)\n",
    "    content.append([docs.page_content for docs in vector_store.get_relevant_documents(question)])"
   ],
   "id": "65bdb4d3446a7da8",
   "outputs": [],
   "execution_count": 45
  },
  {
   "metadata": {
    "ExecuteTime": {
     "end_time": "2024-12-19T06:29:14.666638Z",
     "start_time": "2024-12-19T06:29:14.662389Z"
    }
   },
   "cell_type": "code",
   "source": "content[0]",
   "id": "88f0ad6b3d17a7da",
   "outputs": [
    {
     "data": {
      "text/plain": [
       "['Are there any charges applicable on my credit card?/n/nDepending on the type of credit card you hold with us, Annual Fees or Joining Fees or both will be applicable (if any). There are no additional charges applied on for the usage of credit card. However charges are applied in following cases:\\n1. Late payment charges along with applicable GST will be levied if payment is not received till the due date of your credit card bill\\xa0\\n2. Interest will be charged on all unpaid transactions till the date the part payment is received by us and then on the balance amount till the next statement date.\\n3.Interest is also levied on all fees, charges and GST\\xa0\\n4. In case of part payment received towards the previous outstanding, interest will be applicable even on the fresh transactions incurred on the card account\\xa0\\n5. Overlimit charges of INR 500.00 plus applicable GST will be levied if you have over utilisized the credit limit offered to you on your card. Kindly click here to know the charges applicable.',\n",
       " 'Are there any charges applicable on my credit card?/n/nDepending on the type of credit card you hold with us, Annual Fees or Joining Fees or both will be applicable (if any).\\xa0\\nThere are no additional charges applied on for the usage of credit card. However charges are applied in following cases,\\n\\nLate payment charges along with applicable GST will be levied if payment is not received till the due date of your credit card bill\\nInterest will be charged on all unpaid transactions till the date the part payment is received by us and then on the balance amount till the next statement date.\\nInterest is also levied on all fees, charges and GST\\nIn case of part payment received towards the previous outstanding, interest will be applicable even on the fresh transactions incurred on the card account.\\nOverlimit charges of INR 500.00 plus applicable GST will be levied if you have over utilisized the credit limit offered to you on your card.\\n\\nClick here and select your card type to know all details on credit card charges.',\n",
       " 'What charges are applied if I pay only minimum amount due of my Credit Card?/n/nIf you pay the minimum amount due (or make a part pyment of your bill) for the current bill, then in your next Credit Card bill you will not be charged late payment fee if you make your payment before the due date.\\xa0\\nHowever, Interest will be charged on all unpaid transactions till the date the part payment is received by us and then on the balance amount till the next statement date.\\nInterest is also levied on all fees, charges and GST.\\nIn case of part payment received towards the previous outstanding, interest will be applicable even on the fresh transactions incurred on the card account.\\nInterest rate will vary depending on the type of credit you hold with us. Click here and select your card to check the interest rate applicable.']"
      ]
     },
     "execution_count": 46,
     "metadata": {},
     "output_type": "execute_result"
    }
   ],
   "execution_count": 46
  },
  {
   "metadata": {},
   "cell_type": "markdown",
   "source": "# evaluate",
   "id": "bb5989f07df4f85"
  },
  {
   "metadata": {
    "ExecuteTime": {
     "end_time": "2024-12-19T06:50:13.611721Z",
     "start_time": "2024-12-19T06:50:13.462183Z"
    }
   },
   "cell_type": "code",
   "source": "! ollama list",
   "id": "b5cbca4dc44afcff",
   "outputs": [
    {
     "name": "stdout",
     "output_type": "stream",
     "text": [
      "NAME                       ID              SIZE      MODIFIED    \r\n",
      "sqlcoder:latest            77ac14348387    4.1 GB    9 days ago     \r\n",
      "nomic-embed-text:latest    0a109f422b47    274 MB    9 days ago     \r\n",
      "llama3.2:3b                a80c4f17acd5    2.0 GB    5 weeks ago    \r\n"
     ]
    }
   ],
   "execution_count": 53
  },
  {
   "metadata": {
    "ExecuteTime": {
     "end_time": "2024-12-19T07:21:43.624606Z",
     "start_time": "2024-12-19T07:21:43.474929Z"
    }
   },
   "cell_type": "code",
   "source": [
    "from langchain_ollama import OllamaEmbeddings\n",
    "\n",
    "embeddings = OllamaEmbeddings(\n",
    "    model=\"nomic-embed-text:latest\",\n",
    ")"
   ],
   "id": "39a2184973d08e22",
   "outputs": [],
   "execution_count": 4
  },
  {
   "metadata": {
    "ExecuteTime": {
     "end_time": "2024-12-19T07:21:47.176447Z",
     "start_time": "2024-12-19T07:21:46.342330Z"
    }
   },
   "cell_type": "code",
   "source": [
    "from ragas.embeddings import LangchainEmbeddingsWrapper\n",
    "embedding_llm = LangchainEmbeddingsWrapper(embeddings)"
   ],
   "id": "fe51bd83e5562daa",
   "outputs": [],
   "execution_count": 5
  },
  {
   "metadata": {
    "ExecuteTime": {
     "end_time": "2024-12-19T07:09:50.052504Z",
     "start_time": "2024-12-19T07:09:49.727195Z"
    }
   },
   "cell_type": "code",
   "source": [
    "data = {\n",
    "    \"question\": questions,\n",
    "    \"ground_truth\": ground_truths,\n",
    "    \"response\": answers,\n",
    "    \"contexts\": content\n",
    "}"
   ],
   "id": "461e285684547396",
   "outputs": [
    {
     "ename": "NameError",
     "evalue": "name 'questions' is not defined",
     "output_type": "error",
     "traceback": [
      "\u001B[0;31m---------------------------------------------------------------------------\u001B[0m",
      "\u001B[0;31mNameError\u001B[0m                                 Traceback (most recent call last)",
      "Cell \u001B[0;32mIn[6], line 2\u001B[0m\n\u001B[1;32m      1\u001B[0m data \u001B[38;5;241m=\u001B[39m {\n\u001B[0;32m----> 2\u001B[0m     \u001B[38;5;124m\"\u001B[39m\u001B[38;5;124mquestion\u001B[39m\u001B[38;5;124m\"\u001B[39m: \u001B[43mquestions\u001B[49m,\n\u001B[1;32m      3\u001B[0m     \u001B[38;5;124m\"\u001B[39m\u001B[38;5;124mground_truth\u001B[39m\u001B[38;5;124m\"\u001B[39m: ground_truths,\n\u001B[1;32m      4\u001B[0m     \u001B[38;5;124m\"\u001B[39m\u001B[38;5;124mresponse\u001B[39m\u001B[38;5;124m\"\u001B[39m: answers,\n\u001B[1;32m      5\u001B[0m     \u001B[38;5;124m\"\u001B[39m\u001B[38;5;124mcontexts\u001B[39m\u001B[38;5;124m\"\u001B[39m: content\n\u001B[1;32m      6\u001B[0m }\n",
      "\u001B[0;31mNameError\u001B[0m: name 'questions' is not defined"
     ]
    }
   ],
   "execution_count": 6
  },
  {
   "metadata": {
    "ExecuteTime": {
     "end_time": "2024-12-19T06:57:52.296263Z",
     "start_time": "2024-12-19T06:57:52.290211Z"
    }
   },
   "cell_type": "code",
   "source": [
    "with open(\"../data/test_set.json\",\"w\") as f:\n",
    "    json.dump(data,f)"
   ],
   "id": "575fbe268188261",
   "outputs": [],
   "execution_count": 61
  },
  {
   "metadata": {
    "ExecuteTime": {
     "end_time": "2024-12-19T07:21:49.536889Z",
     "start_time": "2024-12-19T07:21:49.532198Z"
    }
   },
   "cell_type": "code",
   "source": [
    "with open(\"../data/test_set.json\",\"r\") as f:\n",
    "    data = json.load(f)"
   ],
   "id": "c570e9d4e537f450",
   "outputs": [],
   "execution_count": 6
  },
  {
   "metadata": {
    "ExecuteTime": {
     "end_time": "2024-12-19T07:21:50.930599Z",
     "start_time": "2024-12-19T07:21:50.926301Z"
    }
   },
   "cell_type": "code",
   "source": [
    "data ={\n",
    "    \"question\": data[\"question\"][:5],\n",
    "    \"ground_truth\": data[\"ground_truth\"][:5],\n",
    "    \"response\": data[\"response\"][:5],\n",
    "    \"contexts\": data[\"contexts\"][:5]\n",
    "}"
   ],
   "id": "7e7f318f4396ed18",
   "outputs": [],
   "execution_count": 7
  },
  {
   "metadata": {
    "ExecuteTime": {
     "end_time": "2024-12-19T07:21:52.451625Z",
     "start_time": "2024-12-19T07:21:52.438795Z"
    }
   },
   "cell_type": "code",
   "source": [
    "from datasets import Dataset\n",
    "dataset = Dataset.from_dict(data)"
   ],
   "id": "1ababa53dafe78bd",
   "outputs": [],
   "execution_count": 8
  },
  {
   "metadata": {
    "ExecuteTime": {
     "end_time": "2024-12-19T07:21:53.739764Z",
     "start_time": "2024-12-19T07:21:53.736244Z"
    }
   },
   "cell_type": "code",
   "source": [
    "from ragas import evaluate\n",
    "from ragas.metrics import (\n",
    "    faithfulness,\n",
    "    answer_relevancy,\n",
    "    context_recall,\n",
    "    context_precision,\n",
    ")\n",
    "from ragas.llms import LangchainLLMWrapper\n",
    "evaluator_llm = LangchainLLMWrapper(llm)"
   ],
   "id": "81a2df80c39f73fa",
   "outputs": [],
   "execution_count": 9
  },
  {
   "metadata": {
    "ExecuteTime": {
     "end_time": "2024-12-19T07:24:00.049665Z",
     "start_time": "2024-12-19T07:21:55.306232Z"
    }
   },
   "cell_type": "code",
   "source": [
    "result = evaluate(\n",
    "    dataset,\n",
    "    metrics=[\n",
    "        answer_relevancy,\n",
    "        context_recall,\n",
    "        context_precision,\n",
    "        faithfulness,\n",
    "    ],\n",
    "    llm=evaluator_llm,\n",
    "    embeddings=embedding_llm,\n",
    ")"
   ],
   "id": "c2c42d7d5e723a20",
   "outputs": [
    {
     "data": {
      "text/plain": [
       "Evaluating:   0%|          | 0/20 [00:00<?, ?it/s]"
      ],
      "application/vnd.jupyter.widget-view+json": {
       "version_major": 2,
       "version_minor": 0,
       "model_id": "a204b60bd3fd480d964886333f31e2f3"
      }
     },
     "metadata": {},
     "output_type": "display_data"
    }
   ],
   "execution_count": 10
  },
  {
   "metadata": {
    "ExecuteTime": {
     "end_time": "2024-12-19T07:24:13.075644Z",
     "start_time": "2024-12-19T07:24:13.071238Z"
    }
   },
   "cell_type": "code",
   "source": "result",
   "id": "1cc9fd1a32541579",
   "outputs": [
    {
     "data": {
      "text/plain": [
       "{'answer_relevancy': 0.5689, 'context_recall': 1.0000, 'context_precision': 0.9333, 'faithfulness': 0.9417}"
      ]
     },
     "execution_count": 11,
     "metadata": {},
     "output_type": "execute_result"
    }
   ],
   "execution_count": 11
  }
 ],
 "metadata": {
  "kernelspec": {
   "display_name": "Python 3",
   "language": "python",
   "name": "python3"
  },
  "language_info": {
   "codemirror_mode": {
    "name": "ipython",
    "version": 2
   },
   "file_extension": ".py",
   "mimetype": "text/x-python",
   "name": "python",
   "nbconvert_exporter": "python",
   "pygments_lexer": "ipython2",
   "version": "2.7.6"
  }
 },
 "nbformat": 4,
 "nbformat_minor": 5
}
